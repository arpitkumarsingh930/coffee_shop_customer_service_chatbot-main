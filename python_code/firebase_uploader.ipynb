{
 "cells": [
  {
   "cell_type": "code",
   "execution_count": null,
   "id": "5d0094f2",
   "metadata": {},
   "outputs": [],
   "source": [
    "!pip install firebase-admin\n",
    "!pip install google-cloud-storage\n",
    "!pip install python-dotenv\n",
    "!pip install pandas\n"
   ]
  },
  {
   "cell_type": "code",
   "execution_count": 55,
   "id": "49ffbfc4",
   "metadata": {},
   "outputs": [
    {
     "data": {
      "text/plain": [
       "True"
      ]
     },
     "execution_count": 55,
     "metadata": {},
     "output_type": "execute_result"
    }
   ],
   "source": [
    "import firebase_admin\n",
    "from firebase_admin import credentials, storage\n",
    "from firebase_admin import db\n",
    "import pandas as pd\n",
    "import os\n",
    "import dotenv\n",
    "dotenv.load_dotenv()"
   ]
  },
  {
   "cell_type": "markdown",
   "id": "426a06fa",
   "metadata": {},
   "source": [
    "# Firebase Init"
   ]
  },
  {
   "cell_type": "code",
   "execution_count": 90,
   "id": "1cd22fb9",
   "metadata": {
    "vscode": {
     "languageId": "javascript"
    }
   },
   "outputs": [],
   "source": [
    "service_account_info ={\n",
    "    \"type\": os.getenv('FIREBASE_TYPE'),\n",
    "    \"project_id\": os.getenv('FIREBASE_PROJECT_ID'),\n",
    "    \"private_key_id\": os.getenv('FIREBASE_PRIVATE_KEY_ID'),\n",
    "    \"private_key\": os.getenv('FIREBASE_PRIVATE_KEY'),\n",
    "    \"client_email\": os.getenv('FIREBASE_CLIENT_EMAIL'),\n",
    "    \"client_id\": os.getenv('FIREBASE_CLIENT_ID'),\n",
    "    \"auth_uri\": os.getenv('FIREBASE_AUTH_URI'),\n",
    "    \"token_uri\": os.getenv('FIREBASE_TOKEN_URI'),\n",
    "    \"auth_provider_x509_cert_url\": os.getenv('FIREBASE_AUTH_PROVIDER_X509_CERT_URL'),\n",
    "    \"client_x509_cert_url\": os.getenv('FIREBASE_CLIENT_X509_CERT_URL'),\n",
    "    \"universe_domain\": os.getenv('FIREBASE_UNIVERSE_DOMAIN')\n",
    "}"
   ]
  },
  {
   "cell_type": "code",
   "execution_count": 91,
   "id": "b37cbe76",
   "metadata": {},
   "outputs": [
    {
     "name": "stdout",
     "output_type": "stream",
     "text": [
      "Firebase initialized successfully\n"
     ]
    }
   ],
   "source": [
    "import firebase_admin\n",
    "from firebase_admin import credentials\n",
    "\n",
    "# Delete any existing Firebase apps to avoid conflicts\n",
    "try:\n",
    "    for app in firebase_admin._apps.values():\n",
    "        firebase_admin.delete_app(app)\n",
    "    print(\"Deleted existing Firebase apps\")\n",
    "except:\n",
    "    pass\n",
    "\n",
    "# Initialize Firebase with the correct configuration\n",
    "cred = credentials.Certificate(service_account_info)\n",
    "firebase_admin.initialize_app(cred, {\n",
    "    'storageBucket': 'coffee-shop-app-51c4f.firebasestorage.app',\n",
    "    'databaseURL': 'https://coffee-shop-app-51c4f-default-rtdb.firebaseio.com/'\n",
    "})\n",
    "\n",
    "print(\"Firebase initialized successfully\")"
   ]
  },
  {
   "cell_type": "code",
   "execution_count": 92,
   "id": "f5eaab54",
   "metadata": {},
   "outputs": [
    {
     "name": "stdout",
     "output_type": "stream",
     "text": [
      "Using bucket: coffee-shop-app-51c4f.firebasestorage.app\n",
      "Expected bucket: coffee-shop-app-51c4f.firebasestorage.app\n"
     ]
    }
   ],
   "source": [
    "bucket = storage.bucket()\n",
    "print(f\"Using bucket: {bucket.name}\")\n",
    "print(f\"Expected bucket: coffee-shop-app-51c4f.firebasestorage.app\")"
   ]
  },
  {
   "cell_type": "code",
   "execution_count": null,
   "id": "ff8095b6",
   "metadata": {},
   "outputs": [],
   "source": []
  },
  {
   "cell_type": "markdown",
   "id": "85213aa9",
   "metadata": {},
   "source": [
    "# Upload Data"
   ]
  },
  {
   "cell_type": "code",
   "execution_count": 79,
   "id": "7e0c06e4",
   "metadata": {},
   "outputs": [],
   "source": [
    "image_folder_path = './products/images/'"
   ]
  },
  {
   "cell_type": "code",
   "execution_count": 93,
   "id": "5407981f",
   "metadata": {},
   "outputs": [],
   "source": [
    "products_collection = db.reference('products')"
   ]
  },
  {
   "cell_type": "code",
   "execution_count": 81,
   "id": "5f98b7ed",
   "metadata": {},
   "outputs": [
    {
     "data": {
      "text/html": [
       "<div>\n",
       "<style scoped>\n",
       "    .dataframe tbody tr th:only-of-type {\n",
       "        vertical-align: middle;\n",
       "    }\n",
       "\n",
       "    .dataframe tbody tr th {\n",
       "        vertical-align: top;\n",
       "    }\n",
       "\n",
       "    .dataframe thead th {\n",
       "        text-align: right;\n",
       "    }\n",
       "</style>\n",
       "<table border=\"1\" class=\"dataframe\">\n",
       "  <thead>\n",
       "    <tr style=\"text-align: right;\">\n",
       "      <th></th>\n",
       "      <th>name</th>\n",
       "      <th>category</th>\n",
       "      <th>description</th>\n",
       "      <th>ingredients</th>\n",
       "      <th>price</th>\n",
       "      <th>rating</th>\n",
       "      <th>image_path</th>\n",
       "    </tr>\n",
       "  </thead>\n",
       "  <tbody>\n",
       "    <tr>\n",
       "      <th>0</th>\n",
       "      <td>Cappuccino</td>\n",
       "      <td>Coffee</td>\n",
       "      <td>A rich and creamy cappuccino made with freshly...</td>\n",
       "      <td>[Espresso, Steamed Milk, Milk Foam]</td>\n",
       "      <td>4.50</td>\n",
       "      <td>4.7</td>\n",
       "      <td>cappuccino.jpg</td>\n",
       "    </tr>\n",
       "    <tr>\n",
       "      <th>1</th>\n",
       "      <td>Jumbo Savory Scone</td>\n",
       "      <td>Bakery</td>\n",
       "      <td>Deliciously flaky and buttery, this jumbo savo...</td>\n",
       "      <td>[Flour, Butter, Cheese, Herbs, Baking Powder, ...</td>\n",
       "      <td>3.25</td>\n",
       "      <td>4.3</td>\n",
       "      <td>SavoryScone.webp</td>\n",
       "    </tr>\n",
       "  </tbody>\n",
       "</table>\n",
       "</div>"
      ],
      "text/plain": [
       "                 name category  \\\n",
       "0          Cappuccino   Coffee   \n",
       "1  Jumbo Savory Scone   Bakery   \n",
       "\n",
       "                                         description  \\\n",
       "0  A rich and creamy cappuccino made with freshly...   \n",
       "1  Deliciously flaky and buttery, this jumbo savo...   \n",
       "\n",
       "                                         ingredients  price  rating  \\\n",
       "0                [Espresso, Steamed Milk, Milk Foam]   4.50     4.7   \n",
       "1  [Flour, Butter, Cheese, Herbs, Baking Powder, ...   3.25     4.3   \n",
       "\n",
       "         image_path  \n",
       "0    cappuccino.jpg  \n",
       "1  SavoryScone.webp  "
      ]
     },
     "execution_count": 81,
     "metadata": {},
     "output_type": "execute_result"
    }
   ],
   "source": [
    "df = pd.read_json('products/products.jsonl',lines=True)\n",
    "df.head(2)"
   ]
  },
  {
   "cell_type": "code",
   "execution_count": null,
   "id": "48d7da07",
   "metadata": {},
   "outputs": [],
   "source": [
    "def upload_image(bucket, image_path):\n",
    "    print(f\"Bucket name: {bucket.name}\")\n",
    "    print(f\"Image path: {image_path}\")\n",
    "    print(f\"File exists: {os.path.exists(image_path)}\")\n",
    "    \n",
    "    image_name = image_path.split('/')[-1]\n",
    "    blob_path = f'product_images/{image_name}'\n",
    "    print(f\"Blob path: {blob_path}\")\n",
    "    \n",
    "    blob = bucket.blob(blob_path)\n",
    "    # Upload image\n",
    "    blob.upload_from_filename(image_path)\n",
    "    # Make the image publicly accessible and get its URL\n",
    "    blob.make_public()\n",
    "    return blob.public_url"
   ]
  },
  {
   "cell_type": "code",
   "execution_count": 95,
   "id": "881051e2",
   "metadata": {},
   "outputs": [
    {
     "name": "stdout",
     "output_type": "stream",
     "text": [
      "Processing 0: Cappuccino\n",
      "  ✓ Successfully uploaded: Cappuccino\n",
      "Processing 1: Jumbo Savory Scone\n",
      "  ✓ Successfully uploaded: Cappuccino\n",
      "Processing 1: Jumbo Savory Scone\n",
      "  ✓ Successfully uploaded: Jumbo Savory Scone\n",
      "Processing 2: Latte\n",
      "  ✓ Successfully uploaded: Jumbo Savory Scone\n",
      "Processing 2: Latte\n",
      "  ✓ Successfully uploaded: Latte\n",
      "Processing 3: Chocolate Chip Biscotti\n",
      "  ✓ Successfully uploaded: Latte\n",
      "Processing 3: Chocolate Chip Biscotti\n",
      "  ✓ Successfully uploaded: Chocolate Chip Biscotti\n",
      "Processing 4: Espresso shot\n",
      "  ✓ Successfully uploaded: Chocolate Chip Biscotti\n",
      "Processing 4: Espresso shot\n",
      "  ✓ Successfully uploaded: Espresso shot\n",
      "Processing 5: Hazelnut Biscotti\n",
      "  ✓ Successfully uploaded: Espresso shot\n",
      "Processing 5: Hazelnut Biscotti\n",
      "  ✓ Successfully uploaded: Hazelnut Biscotti\n",
      "Processing 6: Chocolate Croissant\n",
      "  ✓ Successfully uploaded: Hazelnut Biscotti\n",
      "Processing 6: Chocolate Croissant\n",
      "  ✓ Successfully uploaded: Chocolate Croissant\n",
      "Processing 7: Dark chocolate\n",
      "  ✓ Successfully uploaded: Chocolate Croissant\n",
      "Processing 7: Dark chocolate\n",
      "  ✓ Successfully uploaded: Dark chocolate\n",
      "Processing 8: Cranberry Scone\n",
      "  ✓ Successfully uploaded: Dark chocolate\n",
      "Processing 8: Cranberry Scone\n",
      "  ✓ Successfully uploaded: Cranberry Scone\n",
      "Processing 9: Croissant\n",
      "  ✓ Successfully uploaded: Cranberry Scone\n",
      "Processing 9: Croissant\n",
      "  ✓ Successfully uploaded: Croissant\n",
      "Processing 10: Almond Croissant\n",
      "  ✓ Successfully uploaded: Croissant\n",
      "Processing 10: Almond Croissant\n",
      "  ✓ Successfully uploaded: Almond Croissant\n",
      "Processing 11: Ginger Biscotti\n",
      "  ✓ Successfully uploaded: Almond Croissant\n",
      "Processing 11: Ginger Biscotti\n",
      "  ✓ Successfully uploaded: Ginger Biscotti\n",
      "Processing 12: Oatmeal Scone\n",
      "  ✓ Successfully uploaded: Ginger Biscotti\n",
      "Processing 12: Oatmeal Scone\n",
      "  ✓ Successfully uploaded: Oatmeal Scone\n",
      "Processing 13: Ginger Scone\n",
      "  ✓ Successfully uploaded: Oatmeal Scone\n",
      "Processing 13: Ginger Scone\n",
      "  ✓ Successfully uploaded: Ginger Scone\n",
      "Processing 14: Chocolate syrup\n",
      "  ✓ Successfully uploaded: Ginger Scone\n",
      "Processing 14: Chocolate syrup\n",
      "  ✓ Successfully uploaded: Chocolate syrup\n",
      "Processing 15: Hazelnut syrup\n",
      "  ✓ Successfully uploaded: Chocolate syrup\n",
      "Processing 15: Hazelnut syrup\n",
      "  ✓ Successfully uploaded: Hazelnut syrup\n",
      "Processing 16: Carmel syrup\n",
      "  ✓ Successfully uploaded: Hazelnut syrup\n",
      "Processing 16: Carmel syrup\n",
      "  ✓ Successfully uploaded: Carmel syrup\n",
      "Processing 17: Sugar Free Vanilla syrup\n",
      "  ✓ Successfully uploaded: Carmel syrup\n",
      "Processing 17: Sugar Free Vanilla syrup\n",
      "  ✓ Successfully uploaded: Sugar Free Vanilla syrup\n",
      "Upload process completed!\n",
      "  ✓ Successfully uploaded: Sugar Free Vanilla syrup\n",
      "Upload process completed!\n"
     ]
    }
   ],
   "source": [
    "for index, row in df.iterrows():\n",
    "    print(f\"Processing {index}: {row['name']}\")\n",
    "    \n",
    "    image_path = os.path.join(image_folder_path, row['image_path'])\n",
    "    \n",
    "    # Check if image file exists before uploading\n",
    "    if not os.path.exists(image_path):\n",
    "        print(f\"  Warning: Image file not found: {image_path}\")\n",
    "        continue\n",
    "    \n",
    "    try:\n",
    "        image_url = upload_image(bucket, image_path)\n",
    "        product_data = row.to_dict()\n",
    "        product_data.pop('image_path')\n",
    "        product_data['image_url'] = image_url\n",
    "        \n",
    "        # Add to Firebase Realtime Database\n",
    "        products_collection.push(product_data)\n",
    "        print(f\"  ✓ Successfully uploaded: {row['name']}\")\n",
    "        \n",
    "    except Exception as e:\n",
    "        print(f\"  ✗ Error uploading {row['name']}: {e}\")\n",
    "        continue\n",
    "\n",
    "print(\"Upload process completed!\")"
   ]
  },
  {
   "cell_type": "code",
   "execution_count": 94,
   "id": "735cbab4",
   "metadata": {},
   "outputs": [
    {
     "name": "stdout",
     "output_type": "stream",
     "text": [
      "Bucket name: coffee-shop-app-51c4f.firebasestorage.app\n",
      "Project: coffee-shop-app-51c4f\n",
      "Found 5 existing files in bucket\n",
      "  - product_images/\n",
      "  - product_images/Chocolate_Croissant.jpg\n",
      "  - product_images/Chocolate_syrup.jpg\n",
      "  - product_images/Cranberry_Scone.jpg\n",
      "  - product_images/Croissant.jpg\n",
      "Products file exists: True\n",
      "Images folder exists: True\n",
      "Sample image files: ['almond_croissant.jpg', 'cappuccino.jpg', 'caramel_syrup.jpg', 'Chocolate_Croissant.jpg', 'Chocolate_syrup.jpg']\n"
     ]
    }
   ],
   "source": [
    "# Test bucket access first\n",
    "print(f\"Bucket name: {bucket.name}\")\n",
    "print(f\"Project: {bucket.client.project}\")\n",
    "\n",
    "# Test if we can list existing files\n",
    "try:\n",
    "    blobs = list(bucket.list_blobs(max_results=5))\n",
    "    print(f\"Found {len(blobs)} existing files in bucket\")\n",
    "    for blob in blobs:\n",
    "        print(f\"  - {blob.name}\")\n",
    "except Exception as e:\n",
    "    print(f\"Error listing files: {e}\")\n",
    "\n",
    "# Check if the local products.jsonl file exists and can be read\n",
    "print(f\"Products file exists: {os.path.exists('products/products.jsonl')}\")\n",
    "print(f\"Images folder exists: {os.path.exists('products/images/')}\")\n",
    "\n",
    "# List some image files\n",
    "if os.path.exists('products/images/'):\n",
    "    image_files = os.listdir('products/images/')[:5]\n",
    "    print(f\"Sample image files: {image_files}\")\n",
    "else:\n",
    "    print(\"Images folder not found!\")"
   ]
  }
 ],
 "metadata": {
  "kernelspec": {
   "display_name": ".venv",
   "language": "python",
   "name": "python3"
  },
  "language_info": {
   "codemirror_mode": {
    "name": "ipython",
    "version": 3
   },
   "file_extension": ".py",
   "mimetype": "text/x-python",
   "name": "python",
   "nbconvert_exporter": "python",
   "pygments_lexer": "ipython3",
   "version": "3.10.11"
  }
 },
 "nbformat": 4,
 "nbformat_minor": 5
}
